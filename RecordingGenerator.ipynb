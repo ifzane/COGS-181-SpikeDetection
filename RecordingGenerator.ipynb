{
 "cells": [
  {
   "cell_type": "code",
   "execution_count": 7,
   "metadata": {},
   "outputs": [],
   "source": [
    "import MEArec as mr\n",
    "import numpy as np\n",
    "import matplotlib.pylab as plt\n",
    "from pprint import pprint\n",
    "%matplotlib notebook"
   ]
  },
  {
   "cell_type": "code",
   "execution_count": 8,
   "metadata": {},
   "outputs": [],
   "source": [
    "templates_filename = 'templates_100_neuropixels.h5'\n",
    "tempgen = mr.load_templates(templates_filename)"
   ]
  },
  {
   "cell_type": "code",
   "execution_count": 9,
   "metadata": {},
   "outputs": [
    {
     "name": "stdout",
     "output_type": "stream",
     "text": [
      "{'cell_types': {'excitatory': ['PC', 'SS', 'SP'],\n",
      "                'inhibitory': ['AC',\n",
      "                               'BP',\n",
      "                               'BC',\n",
      "                               'BTC',\n",
      "                               'ChC',\n",
      "                               'DBC',\n",
      "                               'MC',\n",
      "                               'NGC']},\n",
      " 'recordings': {'adc_bit_depth': None,\n",
      "                'angle_tol': 15,\n",
      "                'bursting': False,\n",
      "                'bursting_units': None,\n",
      "                'chunk_duration': 10,\n",
      "                'color_noise_floor': 1,\n",
      "                'color_peak': 300,\n",
      "                'color_q': 2,\n",
      "                'drift_fs': 100,\n",
      "                'drift_mode_probe': 'rigid',\n",
      "                'drift_mode_speed': 'slow',\n",
      "                'drifting': False,\n",
      "                'dtype': 'float32',\n",
      "                'exp_decay': 0.2,\n",
      "                'extract_waveforms': False,\n",
      "                'far_neurons_exc_inh_ratio': 0.8,\n",
      "                'far_neurons_max_amp': 10,\n",
      "                'far_neurons_n': 300,\n",
      "                'far_neurons_noise_floor': 0.5,\n",
      "                'fast_drift_max_jump': 20,\n",
      "                'fast_drift_min_jump': 5,\n",
      "                'fast_drift_period': 10,\n",
      "                'filter': True,\n",
      "                'filter_cutoff': [300, 6000],\n",
      "                'filter_mode': 'filtfilt',\n",
      "                'filter_order': 3,\n",
      "                'fs': None,\n",
      "                'gain': None,\n",
      "                'lsb': None,\n",
      "                'max_burst_duration': 100,\n",
      "                'modulation': 'electrode',\n",
      "                'n_burst_spikes': 10,\n",
      "                'n_bursting': None,\n",
      "                'n_drifting': None,\n",
      "                'noise_color': False,\n",
      "                'noise_half_distance': 30,\n",
      "                'noise_level': 10,\n",
      "                'noise_mode': 'uncorrelated',\n",
      "                'non_rigid_gradient_mode': 'linear',\n",
      "                'non_rigid_linear_direction': 1,\n",
      "                'non_rigid_linear_min_factor': 0.5,\n",
      "                'non_rigid_step_depth_boundary': None,\n",
      "                'non_rigid_step_factors': None,\n",
      "                'overlap': False,\n",
      "                'preferred_dir': [0, 0, 1],\n",
      "                'sdrand': 0.05,\n",
      "                'shape_mod': False,\n",
      "                'shape_stretch': 30.0,\n",
      "                'slow_drift_amplitude': None,\n",
      "                'slow_drift_velocity': 5,\n",
      "                'slow_drift_waveform': 'triangluar',\n",
      "                'sync_jitt': 1,\n",
      "                'sync_rate': None,\n",
      "                't_end_drift': None,\n",
      "                't_start_drift': 0},\n",
      " 'seeds': {'convolution': None,\n",
      "           'noise': None,\n",
      "           'spiketrains': None,\n",
      "           'templates': None},\n",
      " 'spiketrains': {'duration': 10,\n",
      "                 'f_exc': 5,\n",
      "                 'f_inh': 15,\n",
      "                 'gamma_shape': 2,\n",
      "                 'min_rate': 0.5,\n",
      "                 'n_exc': 7,\n",
      "                 'n_inh': 3,\n",
      "                 'process': 'poisson',\n",
      "                 'ref_per': 2,\n",
      "                 'st_exc': 1,\n",
      "                 'st_inh': 3,\n",
      "                 't_start': 0},\n",
      " 'templates': {'max_amp': 300,\n",
      "               'min_amp': 50,\n",
      "               'min_dist': 25,\n",
      "               'n_jitters': 10,\n",
      "               'n_overlap_pairs': None,\n",
      "               'overlap_threshold': 0.9,\n",
      "               'pad_len': [3, 3],\n",
      "               'smooth_percent': 0.5,\n",
      "               'smooth_strength': 1,\n",
      "               'upsample': 8,\n",
      "               'xlim': None,\n",
      "               'ylim': None,\n",
      "               'zlim': None}}\n"
     ]
    }
   ],
   "source": [
    "recording_params = mr.get_default_recordings_params()\n",
    "pprint(recording_params)"
   ]
  },
  {
   "cell_type": "code",
   "execution_count": 10,
   "metadata": {},
   "outputs": [],
   "source": [
    "recording_params['spiketrains']['n_exc'] = 60\n",
    "recording_params['spiketrains']['n_inh'] = 50\n",
    "recording_params['spiketrains']['duration'] = 120\n",
    "recording_params['spiketrains']['seed'] = 0\n",
    "\n",
    "\n",
    "recording_params['templates']['min_amp'] = 40\n",
    "recording_params['templates']['max_amp'] = 300\n",
    "recording_params['templates']['seed'] = 0\n",
    "\n",
    "recording_params['recordings']['modulation'] = 'electrode'\n",
    "recording_params['recordings']['noise_mode'] = 'uncorrelated'\n",
    "recording_params['recordings']['noise_level'] = 10\n",
    "# use chunk options\n",
    "recording_params['recordings']['chunk_conv_duration'] = 20\n",
    "recording_params['recordings']['chunk_noise_duration'] = 20\n",
    "recording_params['recordings']['chunk_filter_duration'] = 20\n",
    "recording_params['recordings']['seed'] = 0"
   ]
  },
  {
   "cell_type": "code",
   "execution_count": 5,
   "metadata": {},
   "outputs": [
    {
     "name": "stdout",
     "output_type": "stream",
     "text": [
      "Loading templates...\n",
      "Done loading templates...\n",
      "Spiketrains seed:  6206\n"
     ]
    },
    {
     "name": "stdout",
     "output_type": "stream",
     "text": [
      "dtype float32\n",
      "Noise Level  10\n",
      "Templates selection seed:  8914\n",
      "Selecting cells\n",
      "Padding template edges\n",
      "Elapsed pad time: 31.359444618225098\n",
      "Creating time jittering\n",
      "Elapsed jitter time: 2.3123350143432617\n",
      "Smoothing templates\n",
      "Computing spike train SNR\n",
      "Adding spiketrain annotations\n",
      "Convolution seed:  7005\n",
      "Electrode modulaton\n",
      "Adding noise\n",
      "Noise seed:  4023\n",
      "Filtering\n",
      "Band-pass cutoff [ 300. 6000.] Hz\n",
      "Elapsed time:  1218.9372896999994\n"
     ]
    }
   ],
   "source": [
    "recgen = mr.gen_recordings(templates=templates_filename, params=recording_params, n_jobs=1, verbose=True)"
   ]
  },
  {
   "cell_type": "code",
   "execution_count": 6,
   "metadata": {},
   "outputs": [],
   "source": [
    "mr.save_recording_generator(recgen, 'recording_neuropixels_120s.h5')"
   ]
  },
  {
   "cell_type": "code",
   "execution_count": null,
   "metadata": {},
   "outputs": [],
   "source": []
  }
 ],
 "metadata": {
  "kernelspec": {
   "display_name": "Python 3",
   "language": "python",
   "name": "python3"
  },
  "language_info": {
   "codemirror_mode": {
    "name": "ipython",
    "version": 3
   },
   "file_extension": ".py",
   "mimetype": "text/x-python",
   "name": "python",
   "nbconvert_exporter": "python",
   "pygments_lexer": "ipython3",
   "version": "3.10.12"
  }
 },
 "nbformat": 4,
 "nbformat_minor": 2
}
